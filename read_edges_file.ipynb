{
 "cells": [
  {
   "cell_type": "code",
   "execution_count": 2,
   "metadata": {},
   "outputs": [
    {
     "name": "stdout",
     "output_type": "stream",
     "text": [
      "Number of nodes: 924\n",
      "Number of edges: 3239\n"
     ]
    }
   ],
   "source": [
    "import networkx as nx\n",
    "with open('bio_sample.edges', 'r') as file:\n",
    "    edges = [line.strip().split()[:2] for line in file]\n",
    "graph = nx.Graph()\n",
    "for edge in edges:\n",
    "    node1, node2 = edge\n",
    "    graph.add_edge(node1, node2)\n",
    "print(\"Number of nodes:\", graph.number_of_nodes())\n",
    "print(\"Number of edges:\", graph.number_of_edges())"
   ]
  }
 ],
 "metadata": {
  "kernelspec": {
   "display_name": "Python 3",
   "language": "python",
   "name": "python3"
  },
  "language_info": {
   "codemirror_mode": {
    "name": "ipython",
    "version": 3
   },
   "file_extension": ".py",
   "mimetype": "text/x-python",
   "name": "python",
   "nbconvert_exporter": "python",
   "pygments_lexer": "ipython3",
   "version": "3.10.6"
  },
  "orig_nbformat": 4
 },
 "nbformat": 4,
 "nbformat_minor": 2
}
