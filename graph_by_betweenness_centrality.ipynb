{
 "cells": [
  {
   "cell_type": "code",
   "execution_count": 265,
   "metadata": {},
   "outputs": [],
   "source": [
    "\"\"\"\n",
    "The purpose of the algorithm is not to recover the original network but \n",
    "rather to identify important nodes and understand their impact on the network structure\n",
    "\"\"\"\n",
    "import networkx as nx\n",
    "import matplotlib.pyplot as plt\n",
    "import numpy as np\n",
    "import itertools"
   ]
  },
  {
   "cell_type": "code",
   "execution_count": 266,
   "metadata": {},
   "outputs": [],
   "source": [
    "\"\"\" \n",
    "Remove nodes starting with highest betweenness centrality score\n",
    "A node is having High betweenness centrality means it falls in between shortest paths of \n",
    "many nodes Due to this, there can be congestion in that particular node and leads to \n",
    "bottleneck and eventually Slows down the networkin most real-world networks, there are often\n",
    "multiple shortest paths between pairs of nodes, not just one. So even if we remove a node\n",
    "that lies on one shortest path, there may be other paths that can still connect the same \n",
    "pair of nodes.So by removing the node we force some traffic to take alternative routes\n",
    "that improves network efficiency\n",
    "\"\"\"\n",
    "def optimize_graph_by_betweenness_centrality(G):\n",
    "    # Compute the betweenness centrality for each node\n",
    "    betweenness = nx.betweenness_centrality(G)\n",
    "    print(betweenness)\n",
    "    # Sort nodes in descending order based on betweenness centrality score\n",
    "    sorted_nodes = sorted(betweenness, key=betweenness.get, reverse=True)\n",
    "    print(sorted_nodes)\n",
    "    threshold = 0.8  # We want to retain at least 80% of the nodes\n",
    "    removed_nodes = set()\n",
    "    for node in sorted_nodes:\n",
    "        # Removing the node that is having the highest betweenness centrality\n",
    "        print(node)\n",
    "        G.remove_node(node)\n",
    "        removed_nodes.add(node)\n",
    "        if len(removed_nodes) > 0:\n",
    "            remaining_graph = G.subgraph(G.nodes - removed_nodes)\n",
    "            # Finding the largest connected component\n",
    "            largest_cc = max(nx.connected_components(remaining_graph), key=len)\n",
    "            # Checking whether the size of the largest connected component\n",
    "            # of the subgraph obtained by removing nodes with high betweenness centrality\n",
    "            # is smaller than a certain fraction of the size of the original network.\n",
    "            if len(largest_cc) < threshold * len(G):\n",
    "                break\n",
    "    return G, removed_nodes"
   ]
  },
  {
   "cell_type": "code",
   "execution_count": 267,
   "metadata": {},
   "outputs": [],
   "source": [
    "\"\"\"Finding Similarity between two graphs with respect to the betweenness centrality\"\"\"\n",
    "def compare_betweenness_centrality(original_graph,optimized_graph,removed_nodes):\n",
    "    \"\"\"Setting the size to the size of the orginal graph\"\"\"\n",
    "    # The second graph is the reduced graph\n",
    "    reduced_graph = optimized_graph\n",
    "    print(len(reduced_graph))\n",
    "    # Calculate betweenness centrality for the first graph\n",
    "    betweenness_centrality_original_graph = nx.betweenness_centrality(original_graph)\n",
    "    # Calculate betweenness centrality for the second graph\n",
    "    betweenness_centrality_reduced_graph = nx.betweenness_centrality(reduced_graph)\n",
    "    print(betweenness_centrality_reduced_graph)\n",
    "    # Calculate the average absolute difference between centrality values\n",
    "    differences = []\n",
    "    for node in original_graph.nodes():\n",
    "        centrality1 = betweenness_centrality_original_graph[node]\n",
    "        if node not in removed_nodes:\n",
    "            centrality2 = betweenness_centrality_reduced_graph[node]\n",
    "        else:\n",
    "            centrality2 = 0\n",
    "        difference = abs(centrality1 - centrality2)\n",
    "        differences.append(difference)\n",
    "    average_difference = sum(differences) / len(differences)\n",
    "    # Calculate the similarity percentage\n",
    "    similarity_percentage = (1 - average_difference) * 100\n",
    "    return round(similarity_percentage,2)"
   ]
  },
  {
   "cell_type": "code",
   "execution_count": 268,
   "metadata": {},
   "outputs": [],
   "source": [
    "\"\"\"Calculating Similarity between the original graph and the reduced graph with respect to the degree distribution\"\"\"\n",
    "def calculate_degree_sequence(original_graph,optimized_graph):\n",
    "    # Find the degree sequence\n",
    "    \"\"\"Finding the degree sequence of the Original Graph\"\"\"\n",
    "    degree_sequence_original = [degree for node, degree in original_graph.degree()]\n",
    "\n",
    "    # Print the degree sequence\n",
    "    print(\"Degree sequence:\", degree_sequence_original)\n",
    "\n",
    "    # Find the degree sequence\n",
    "    \"\"\"Finding the degree sequence of the Reduced Graph\"\"\"\n",
    "    degree_sequence_reduced = [degree for node, degree in optimized_graph.degree()]\n",
    "\n",
    "    # Print the degree sequence\n",
    "    print(\"Degree sequence:\", degree_sequence_reduced)\n",
    "    return degree_sequence_original,degree_sequence_reduced"
   ]
  },
  {
   "cell_type": "code",
   "execution_count": 269,
   "metadata": {},
   "outputs": [],
   "source": [
    "\"\"\"Calculate Degree Distribution from a given degree and number of nodes\"\"\"\n",
    "def calculate_degree_distribution(degree_sequence, size):\n",
    "    # Initialize an array to store the degree distribution\n",
    "    degree_distribution = np.zeros(size)\n",
    "    # Calculate the degree distribution\n",
    "    for degree in degree_sequence:\n",
    "        if degree < size:\n",
    "            degree_distribution[degree] += 1\n",
    "\n",
    "    # Normalize the degree distribution to get probabilities\n",
    "    degree_distribution = degree_distribution / len(degree_sequence)\n",
    "\n",
    "    # Print the degree distribution array\n",
    "    output = \", \".join(str(value) for value in degree_distribution)\n",
    "    return degree_distribution"
   ]
  },
  {
   "cell_type": "code",
   "execution_count": 270,
   "metadata": {},
   "outputs": [],
   "source": [
    "\"\"\"Two degree distributions 'array1' and 'array2' are compared and the similarity score is returned\"\"\"\n",
    "def compare_degree_distributions(original_graph,optimized_graph):\n",
    "    degree_sequence_original,degree_sequence_reduced=calculate_degree_sequence(original_graph,optimized_graph)\n",
    "    size = len(original_graph)\n",
    "    \"\"\"Get the degree distribution for the degree sequence of the origianl graph\"\"\"\n",
    "    degree_distribution_original = calculate_degree_distribution(degree_sequence_original, size)\n",
    "    \"\"\"Get the degree distribution for the degree sequence of the reduced graph\"\"\"\n",
    "    degree_distribution_reduced = calculate_degree_distribution(degree_sequence_reduced, size)\n",
    "    # Calculate Euclidean distance\n",
    "    euclidean_distance = np.linalg.norm(degree_distribution_original - degree_distribution_reduced)\n",
    "    # Calculate maximum possible distance\n",
    "    max_distance = np.linalg.norm(np.ones_like(degree_distribution_original) - np.zeros_like(degree_distribution_reduced))\n",
    "    # Normalize Euclidean distance to obtain similarity score\n",
    "    similarity_score = 1 - (euclidean_distance / max_distance)\n",
    "    return round(similarity_score*100,2)"
   ]
  },
  {
   "attachments": {},
   "cell_type": "markdown",
   "metadata": {},
   "source": [
    "<h>Note</h>\n",
    "The clustering coefficient is a measure of how interconnected the nodes in a graph are. A higher clustering coefficient indicates a higher level of clustering or connectivity between the neighbors of a node.\n",
    "\n",
    "In your case, the original graph has a clustering coefficient of 0.57, while the reduced graph has a clustering coefficient of 0.17. This implies that the original graph has a higher level of local clustering compared to the reduced graph.\n",
    "\n",
    "The reduction in the clustering coefficient could be due to the removal of certain edges or nodes in the reduced graph. When edges or nodes are removed, it can disrupt the local connectivity and decrease the clustering coefficient.\n",
    "\n",
    "A lower clustering coefficient in the reduced graph suggests that the nodes in the graph are less interconnected, and there may be fewer clusters or communities present compared to the original graph. This reduction in clustering could indicate a loss of local structure or a more dispersed network configuration.\n",
    "\n",
    "Overall, the difference in clustering coefficients between the original and reduced graphs can provide insights into the structural changes and the level of clustering in the network. It can be used to study the impact of network modifications or analyze the resilience and robustness of the graph's connectivity.\n",
    "\n",
    "The characterization of the reduced graph as \"bad\" or not depends on the specific context and goals of your analysis. The reduced graph may not necessarily be considered \"bad,\" but rather different or simplified compared to the original graph.\n",
    "\n",
    "Reducing a graph can be done for various reasons, such as improving computational efficiency, removing noise or outliers, or focusing on specific aspects of the network. It may help in identifying the core structure or essential relationships within the graph.\n",
    "\n",
    "However, it's important to consider the implications of the reduction. Removing nodes or edges can result in a loss of information and potentially alter the characteristics of the graph. If the reduced graph still captures the essential properties or patterns you are interested in, it can be considered a useful simplification.\n",
    "\n",
    "It's crucial to evaluate the reduced graph in relation to your specific analysis objectives. If the reduction significantly impacts the interpretation or understanding of the network, you may need to reassess the approach or consider alternative methods to retain more of the original graph's structure.\n",
    "\n",
    "Ultimately, whether the reduced graph is considered \"bad\" or not depends on its utility and relevance to the particular analysis or problem at hand."
   ]
  },
  {
   "cell_type": "code",
   "execution_count": 271,
   "metadata": {},
   "outputs": [],
   "source": [
    "def compare_clustering_coefficient(original_graph,optimized_graph):\n",
    "    original_clustering_coefficient = nx.average_clustering(original_graph)\n",
    "\n",
    "    print(\"Clustering Coefficient of Original Graph:\",original_clustering_coefficient)\n",
    "\n",
    "    reduced_clustering_coefficient = nx.average_clustering(optimized_graph)\n",
    "\n",
    "    print(\"Clustering Coefficient of Reduced Graph:\", reduced_clustering_coefficient)\n",
    "\n",
    "    similarity_clustering_coefficient = reduced_clustering_coefficient / original_clustering_coefficient\n",
    "    return round(similarity_clustering_coefficient*100, 2)"
   ]
  },
  {
   "cell_type": "code",
   "execution_count": 272,
   "metadata": {},
   "outputs": [],
   "source": [
    "def compare_eigen_vector_centrality(original_graph,optimized_graph):# Calculate eigenvector centralities\n",
    "    eigenvector_centrality_original = nx.eigenvector_centrality(original_graph)\n",
    "    eigenvector_centrality_reduced = nx.eigenvector_centrality(optimized_graph)\n",
    "    # Get the common nodes present in both graphs\n",
    "    common_nodes = set(eigenvector_centrality_original.keys()).intersection(eigenvector_centrality_reduced.keys())\n",
    "    # Extract the centralities for the common nodes\n",
    "    eigenvector_centrality_original = np.array([eigenvector_centrality_original[node] for node in common_nodes])\n",
    "    eigenvector_centrality_reduced = np.array([eigenvector_centrality_reduced[node] for node in common_nodes])\n",
    "    # Normalize the centralities by dividing by the maximum centrality value\n",
    "    max_centrality = max(np.max(eigenvector_centrality_original),np.max(eigenvector_centrality_reduced))\n",
    "    normalized_centrality_original = eigenvector_centrality_original / max_centrality\n",
    "    normalized_centrality_reduced = eigenvector_centrality_reduced / max_centrality\n",
    "    # Calculate the Mean Squared Error (MSE)\n",
    "    mse = np.mean((normalized_centrality_original - normalized_centrality_reduced) ** 2)\n",
    "    # Convert the MSE to a percentage scale\n",
    "    similarity_percentage = 100 * (1 - mse)\n",
    "    return round(similarity_percentage, 2)"
   ]
  },
  {
   "cell_type": "code",
   "execution_count": 273,
   "metadata": {},
   "outputs": [],
   "source": [
    "def average_path_length(graph):\n",
    "    total_length = 0\n",
    "    num_pairs = 0\n",
    "    for source in graph.nodes():\n",
    "        for target in graph.nodes():\n",
    "            if source != target:\n",
    "                try:\n",
    "                    length = nx.shortest_path_length(graph, source, target)\n",
    "                    total_length += length\n",
    "                    num_pairs += 1\n",
    "                except nx.NetworkXNoPath:\n",
    "                    continue\n",
    "    if num_pairs > 0:\n",
    "        return total_length / num_pairs\n",
    "    else:\n",
    "        return 0"
   ]
  },
  {
   "cell_type": "code",
   "execution_count": 274,
   "metadata": {},
   "outputs": [],
   "source": [
    "def compare_average_path_length(original_graph,optimized_graph):\n",
    "    # Calculate the average path length\n",
    "    average_path_length_original = average_path_length(original_graph)\n",
    "    average_path_length_reduced = average_path_length(optimized_graph)\n",
    "\n",
    "    # Print the average path length\n",
    "    similarity_avg_path_length = round(1-abs(average_path_length_reduced-average_path_length_original)/max(average_path_length_original, average_path_length_reduced), 2)*100\n",
    "    return similarity_avg_path_length"
   ]
  },
  {
   "attachments": {},
   "cell_type": "markdown",
   "metadata": {},
   "source": [
    "The formula `(graph1.number_of_nodes() * (graph1.number_of_nodes() - 1) / 2)` calculates the total number of possible pairs of nodes in `graph1` excluding self-loops. \n",
    "\n",
    "When computing the Jaccard similarity, we are interested in comparing pairs of nodes that do not have an edge between them in `graph2`. To calculate the similarity as a percentage, we need to divide the number of such pairs with non-zero Jaccard similarity by the total number of possible pairs.\n",
    "\n",
    "The total number of possible pairs of nodes in `graph1` excluding self-loops can be calculated as `(graph1.number_of_nodes() * (graph1.number_of_nodes() - 1) / 2)`. We divide `num_pairs` (the number of pairs with non-zero Jaccard similarity) by this total number of possible pairs, and then multiply by 100 to express the result as a percentage. This gives us the similarity percentage.\n",
    "\n",
    "By using this formula, we can obtain a normalized measure of similarity between the graphs that accounts for the total possible pairs of nodes in `graph1`."
   ]
  },
  {
   "cell_type": "code",
   "execution_count": 275,
   "metadata": {},
   "outputs": [],
   "source": [
    "def calculate_jaccard_similarity(graph1, graph2):\n",
    "    jaccard_scores = []\n",
    "    for u, v in itertools.combinations(graph1.nodes(), 2):\n",
    "        if not graph2.has_edge(u, v):\n",
    "            intersection = len(set(graph1.neighbors(u)).intersection(graph1.neighbors(v)))\n",
    "            union = len(set(graph1.neighbors(u)).union(graph1.neighbors(v)))\n",
    "            jaccard_scores.append((u, v, intersection / union))\n",
    "    # Calculate the similarity as a percentage\n",
    "    num_pairs = len(jaccard_scores)\n",
    "    similarity_percentage = (num_pairs / (graph1.number_of_nodes() * (graph1.number_of_nodes() - 1) / 2)) * 100\n",
    "    return round(similarity_percentage,2)"
   ]
  },
  {
   "cell_type": "code",
   "execution_count": 276,
   "metadata": {},
   "outputs": [],
   "source": [
    "def draw_graph(graph):\n",
    "    fig, ax = plt.subplots(figsize=(6, 6))\n",
    "    nx.draw_networkx(graph, pos=nx.spring_layout(graph, k=0.3), with_labels=True, node_size=100,font_size=10, node_color='lightblue', edge_color='black', width=1.0, alpha=0.7, ax=ax)"
   ]
  },
  {
   "cell_type": "code",
   "execution_count": 277,
   "metadata": {},
   "outputs": [
    {
     "name": "stdout",
     "output_type": "stream",
     "text": [
      "Graph named \"Zachary's Karate Club\" with 34 nodes and 78 edges\n"
     ]
    }
   ],
   "source": [
    "# Load the original graph\n",
    "original_graph= nx.karate_club_graph()\n",
    "G=original_graph.copy()\n",
    "print(G)"
   ]
  },
  {
   "cell_type": "code",
   "execution_count": 278,
   "metadata": {},
   "outputs": [
    {
     "name": "stdout",
     "output_type": "stream",
     "text": [
      "{0: 0.43763528138528146, 1: 0.053936688311688304, 2: 0.14365680615680618, 3: 0.011909271284271283, 4: 0.0006313131313131313, 5: 0.02998737373737374, 6: 0.029987373737373736, 7: 0.0, 8: 0.05592682780182781, 9: 0.0008477633477633478, 10: 0.0006313131313131313, 11: 0.0, 12: 0.0, 13: 0.04586339586339586, 14: 0.0, 15: 0.0, 16: 0.0, 17: 0.0, 18: 0.0, 19: 0.03247504810004811, 20: 0.0, 21: 0.0, 22: 0.0, 23: 0.017613636363636363, 24: 0.0022095959595959595, 25: 0.0038404882154882154, 26: 0.0, 27: 0.02233345358345358, 28: 0.0017947330447330447, 29: 0.0029220779220779218, 30: 0.014411976911976909, 31: 0.13827561327561325, 32: 0.145247113997114, 33: 0.30407497594997596}\n",
      "[0, 33, 32, 2, 31, 8, 1, 13, 19, 5, 6, 27, 23, 30, 3, 25, 29, 24, 28, 9, 4, 10, 7, 11, 12, 14, 15, 16, 17, 18, 20, 21, 22, 26]\n",
      "0\n",
      "33\n",
      "32\n",
      "{0, 33, 32}\n"
     ]
    },
    {
     "data": {
      "image/png": "[encoded data removed]",
      "text/plain": [
       "<Figure size 600x600 with 1 Axes>"
      ]
     },
     "metadata": {},
     "output_type": "display_data"
    }
   ],
   "source": [
    "optimized_graph, removed_nodes = optimize_graph_by_betweenness_centrality(G)\n",
    "# Draw the remaining graph\n",
    "print(removed_nodes)\n",
    "draw_graph(optimized_graph)"
   ]
  },
  {
   "cell_type": "code",
   "execution_count": 279,
   "metadata": {},
   "outputs": [
    {
     "name": "stdout",
     "output_type": "stream",
     "text": [
      "31\n",
      "{1: 0.13869731800766283, 2: 0.24559386973180078, 3: 0.042145593869731796, 4: 0.0011494252873563218, 5: 0.0034482758620689655, 6: 0.0034482758620689655, 7: 0.0, 8: 0.011494252873563218, 9: 0.0, 10: 0.0011494252873563218, 11: 0.0, 12: 0.0, 13: 0.0, 14: 0.0, 15: 0.0, 16: 0.0, 17: 0.0, 18: 0.0, 19: 0.0, 20: 0.0, 21: 0.0, 22: 0.0, 23: 0.08850574712643676, 24: 0.012643678160919542, 25: 0.013793103448275862, 26: 0.0, 27: 0.135632183908046, 28: 0.0367816091954023, 29: 0.041379310344827586, 30: 0.004597701149425287, 31: 0.01724137931034483}\n",
      "Similarity of Betweenness Centrality is  95.03 %\n"
     ]
    }
   ],
   "source": [
    "\"\"\"Calculating the similarity between the Graphs with respect to the parameter 'Betweenness Centrality'\"\"\"\n",
    "print('Similarity of Betweenness Centrality is ',compare_betweenness_centrality(original_graph,optimized_graph,removed_nodes),'%')"
   ]
  },
  {
   "cell_type": "code",
   "execution_count": 280,
   "metadata": {},
   "outputs": [
    {
     "name": "stdout",
     "output_type": "stream",
     "text": [
      "Degree sequence: [16, 9, 10, 6, 3, 4, 4, 4, 5, 2, 3, 1, 2, 5, 2, 2, 2, 2, 2, 3, 2, 2, 2, 5, 3, 3, 2, 4, 3, 4, 4, 6, 12, 17]\n",
      "Degree sequence: [8, 8, 5, 2, 3, 3, 3, 2, 1, 2, 0, 1, 3, 0, 0, 2, 1, 0, 1, 0, 1, 0, 3, 3, 3, 1, 3, 2, 2, 2, 3]\n",
      "Similarity of Degree Distribution is  93.74 %\n"
     ]
    }
   ],
   "source": [
    "\"\"\"Calculating the similarity between the Graphs with respect to the parameter 'Degree Distribution'\"\"\"\n",
    "print('Similarity of Degree Distribution is ',compare_degree_distributions(original_graph,optimized_graph),'%')"
   ]
  },
  {
   "cell_type": "code",
   "execution_count": 281,
   "metadata": {},
   "outputs": [
    {
     "name": "stdout",
     "output_type": "stream",
     "text": [
      "Clustering Coefficient of Original Graph: 0.5706384782076823\n",
      "Clustering Coefficient of Reduced Graph: 0.17818740399385558\n",
      "Similarity of Clustering Coefficient is  31.23 %\n"
     ]
    }
   ],
   "source": [
    "\"\"\"Calculating the similarity between the Graphs with respect to the parameter 'Clustering Coefficient'\"\"\"\n",
    "print('Similarity of Clustering Coefficient is ',compare_clustering_coefficient(original_graph,optimized_graph),'%')"
   ]
  },
  {
   "cell_type": "code",
   "execution_count": 282,
   "metadata": {},
   "outputs": [
    {
     "name": "stdout",
     "output_type": "stream",
     "text": [
      "Similarity of Eigen Vector Centrality is  96.12 %\n"
     ]
    }
   ],
   "source": [
    "\"\"\"Calculating the similarity between the Graphs with respect to the parameter 'Eigen Vector Centrality'\"\"\"\n",
    "print('Similarity of Eigen Vector Centrality is ',compare_eigen_vector_centrality(original_graph,optimized_graph),'%')"
   ]
  },
  {
   "cell_type": "code",
   "execution_count": 283,
   "metadata": {},
   "outputs": [
    {
     "name": "stdout",
     "output_type": "stream",
     "text": [
      "Similarity of Average Path Length is  88.0 %\n"
     ]
    }
   ],
   "source": [
    "\"\"\"Calculating the similarity between the Graphs with respect to the parameter 'Average Path Length'\"\"\"\n",
    "print('Similarity of Average Path Length is ',compare_average_path_length(original_graph,optimized_graph),'%')"
   ]
  },
  {
   "cell_type": "code",
   "execution_count": 284,
   "metadata": {},
   "outputs": [
    {
     "name": "stdout",
     "output_type": "stream",
     "text": [
      "Jaccard Similarity is  93.94 %\n"
     ]
    }
   ],
   "source": [
    "\"\"\"Calculating the Jaccard similarity between the Graphs with respect to the parameter 'Average Path Length'\"\"\"\n",
    "print('Jaccard Similarity is ',calculate_jaccard_similarity(original_graph,optimized_graph),'%')"
   ]
  }
 ],
 "metadata": {
  "kernelspec": {
   "display_name": "Python 3",
   "language": "python",
   "name": "python3"
  },
  "language_info": {
   "codemirror_mode": {
    "name": "ipython",
    "version": 3
   },
   "file_extension": ".py",
   "mimetype": "text/x-python",
   "name": "python",
   "nbconvert_exporter": "python",
   "pygments_lexer": "ipython3",
   "version": "3.10.6"
  },
  "orig_nbformat": 4
 },
 "nbformat": 4,
 "nbformat_minor": 2
}
