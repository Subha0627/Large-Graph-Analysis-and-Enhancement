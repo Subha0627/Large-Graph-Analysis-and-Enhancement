{
 "cells": [
  {
   "cell_type": "code",
   "execution_count": 1,
   "metadata": {},
   "outputs": [],
   "source": [
    "\"\"\"\n",
    "The purpose of the algorithm is not to recover the original network but \n",
    "rather to identify important nodes and understand their impact on the network structure\n",
    "\"\"\"\n",
    "import networkx as nx\n",
    "import matplotlib.pyplot as plt\n",
    "import similarity as sm"
   ]
  },
  {
   "attachments": {},
   "cell_type": "markdown",
   "metadata": {},
   "source": [
    "### Description of **enhance_graph_by_betweenness_centrality(G)**:\n",
    "Enhances a graph by reducing it based on Betweenness Centrality scores.\n",
    "\n",
    "This function computes the Betweenness Centrality scores for all nodes in the graph `G` using the `betweenness_centrality` function from the NetworkX library.\n",
    "\n",
    "The function then sorts the nodes in descending order based on their Betweenness Centrality scores. It sets a threshold of retaining at least 80% of the nodes (`threshold = 0.8`).\n",
    "\n",
    "The function iterates through the sorted nodes and removes the node with the highest Betweenness Centrality score from the graph `G`. The removed node is added to the set of removed nodes.\n",
    "\n",
    "After each removal, the function checks if the size of the largest connected component in the remaining graph, obtained by removing nodes with high Betweenness Centrality, is smaller than a certain fraction (`threshold`) of the size of the original network (`G`). If the condition is met, the loop breaks.\n",
    "\n",
    "The function returns the reduced graph and the set of removed nodes.\n",
    "\n",
    "### <u>Parameters</u>\n",
    "**G**: NetworkX graph - The input graph.\n",
    "\n",
    "### <u>Returns</u>\n",
    "**G**: NetworkX graph - The reduced graph that includes the remaining nodes and their corresponding edges.\n",
    "**removed_nodes**: set - The set of removed nodes that were not included in the reduced graph.\n",
    "\n",
    "### <u>Notes</u>\n",
    "Betweenness Centrality is a measure of the importance of a node in a network. It quantifies the number of shortest paths that pass through a node, indicating its influence in facilitating communication or flow within the network. The function relies on the NetworkX library's `betweenness_centrality` function for computing the Betweenness Centrality scores. The resulting reduced graph retains a specified fraction of the nodes, removing those with high Betweenness Centrality scores and ensuring the preservation of the largest connected component in the remaining graph."
   ]
  },
  {
   "cell_type": "code",
   "execution_count": 2,
   "metadata": {},
   "outputs": [],
   "source": [
    "\"\"\" \n",
    "Remove nodes starting with highest betweenness centrality score\n",
    "A node is having High betweenness centrality means it falls in between shortest paths of \n",
    "many nodes Due to this, there can be congestion in that particular node and leads to \n",
    "bottleneck and eventually Slows down the networkin most real-world networks, there are often\n",
    "multiple shortest paths between pairs of nodes, not just one. So even if we remove a node\n",
    "that lies on one shortest path, there may be other paths that can still connect the same \n",
    "pair of nodes.So by removing the node we force some traffic to take alternative routes\n",
    "that improves network efficiency\n",
    "\"\"\"\n",
    "def enhance_graph_by_betweenness_centrality(G):\n",
    "    # Compute the betweenness centrality for each node\n",
    "    betweenness = nx.betweenness_centrality(G)\n",
    "    # Sort nodes in descending order based on betweenness centrality score\n",
    "    sorted_nodes = sorted(betweenness, key=betweenness.get, reverse=True)\n",
    "    threshold = 0.8  # We want to retain at least 80% of the nodes\n",
    "    removed_nodes = set()\n",
    "    for node in sorted_nodes:\n",
    "        # Removing the node that is having the highest betweenness centrality\n",
    "        G.remove_node(node)\n",
    "        removed_nodes.add(node)\n",
    "        if len(removed_nodes) > 0:\n",
    "            remaining_graph = G.subgraph(G.nodes - removed_nodes)\n",
    "            # Finding the largest connected component\n",
    "            largest_cc = max(nx.connected_components(remaining_graph), key=len)\n",
    "            # Checking whether the size of the largest connected component\n",
    "            # of the subgraph obtained by removing nodes with high betweenness centrality\n",
    "            # is smaller than a certain fraction of the size of the original network.\n",
    "            if len(largest_cc) < threshold * len(G):\n",
    "                break\n",
    "    return G, removed_nodes"
   ]
  },
  {
   "attachments": {},
   "cell_type": "markdown",
   "metadata": {},
   "source": [
    "### Description of **draw_graph(graph)**:\n",
    "Draws a graph using the NetworkX library and Matplotlib.\n",
    "\n",
    "This function visualizes the given graph using the `draw_networkx` function from the NetworkX library. The graph is rendered using a spring layout algorithm with a specified value for the `k` parameter.\n",
    "\n",
    "The function creates a Matplotlib figure and axes with a specified size, `figsize=(6, 6)`. It then calls `draw_networkx` with the following parameters:\n",
    "- `graph`: The input graph to be visualized.\n",
    "- `pos`: The layout algorithm to position the nodes. In this case, the spring layout algorithm is used with a `k` value of 0.3.\n",
    "- `with_labels=True`: Specifies that node labels should be displayed.\n",
    "- `node_size=100`: Sets the size of the nodes in the graph visualization.\n",
    "- `font_size=10`: Sets the font size for node labels.\n",
    "- `node_color='lightblue'`: Sets the color of the nodes to light blue.\n",
    "- `edge_color='black'`: Sets the color of the edges to black.\n",
    "- `width=1.0`: Sets the width of the edges.\n",
    "- `alpha=0.7`: Sets the transparency of the nodes and edges.\n",
    "- `ax=ax`: Specifies the axes where the graph should be drawn.\n",
    "\n",
    "### <u>Parameters</u>\n",
    "**graph**: NetworkX graph - The input graph to be visualized.\n",
    "\n",
    "### <u>Returns</u>\n",
    "None\n",
    "\n",
    "### <u>Notes</u>\n",
    "The function relies on the NetworkX library's `draw_networkx` function to render the graph visualization. It also uses the Matplotlib library to create the figure and axes for the visualization. The resulting graph visualization provides a visual representation of the nodes and edges in the input graph. The nodes are displayed as circles with a specified size and color, while the edges are displayed as lines with a specified width and color. Node labels are included, and the layout algorithm positions the nodes in a visually pleasing arrangement using the spring layout algorithm."
   ]
  },
  {
   "cell_type": "code",
   "execution_count": 3,
   "metadata": {},
   "outputs": [],
   "source": [
    "def draw_graph(graph):\n",
    "    fig, ax = plt.subplots(figsize=(6, 6))\n",
    "    nx.draw_networkx(graph, pos=nx.spring_layout(graph, k=0.3), with_labels=True, node_size=100,font_size=10, node_color='lightblue', edge_color='black', width=1.0, alpha=0.7, ax=ax)"
   ]
  },
  {
   "cell_type": "code",
   "execution_count": 4,
   "metadata": {},
   "outputs": [
    {
     "name": "stdout",
     "output_type": "stream",
     "text": [
      "Graph named \"Zachary's Karate Club\" with 34 nodes and 78 edges\n"
     ]
    }
   ],
   "source": [
    "# Load the original graph\n",
    "original_graph= nx.karate_club_graph()\n",
    "G=original_graph.copy()\n",
    "print(G)"
   ]
  },
  {
   "cell_type": "code",
   "execution_count": 5,
   "metadata": {},
   "outputs": [
    {
     "name": "stdout",
     "output_type": "stream",
     "text": [
      "{0, 33, 32}\n"
     ]
    },
    {
     "name": "stdout",
     "output_type": "stream",
     "text": [
      "Graph named \"Zachary's Karate Club\" with 31 nodes and 34 edges\n"
     ]
    },
    {
     "data": {
      "image/png": "[encoded data removed]",
      "text/plain": [
       "<Figure size 600x600 with 1 Axes>"
      ]
     },
     "metadata": {},
     "output_type": "display_data"
    }
   ],
   "source": [
    "reduced_graph, removed_nodes = enhance_graph_by_betweenness_centrality(G)\n",
    "# Draw the remaining graph\n",
    "print(removed_nodes)\n",
    "draw_graph(reduced_graph)\n",
    "print(reduced_graph)"
   ]
  },
  {
   "cell_type": "code",
   "execution_count": 6,
   "metadata": {},
   "outputs": [
    {
     "name": "stdout",
     "output_type": "stream",
     "text": [
      "Similarity of Betweenness Centrality is  95.03 %\n"
     ]
    }
   ],
   "source": [
    "\"\"\"Calculating the similarity between the Graphs with respect to the parameter 'Betweenness Centrality'\"\"\"\n",
    "print('Similarity of Betweenness Centrality is ',sm.compare_betweenness_centrality(original_graph,reduced_graph,removed_nodes),'%')"
   ]
  },
  {
   "cell_type": "code",
   "execution_count": 7,
   "metadata": {},
   "outputs": [
    {
     "name": "stdout",
     "output_type": "stream",
     "text": [
      "Similarity of Degree Distribution is  93.74 %\n"
     ]
    }
   ],
   "source": [
    "\"\"\"Calculating the similarity between the Graphs with respect to the parameter 'Degree Distribution'\"\"\"\n",
    "print('Similarity of Degree Distribution is ',sm.compare_degree_distributions(original_graph,reduced_graph),'%')"
   ]
  },
  {
   "cell_type": "code",
   "execution_count": 8,
   "metadata": {},
   "outputs": [
    {
     "name": "stdout",
     "output_type": "stream",
     "text": [
      "Similarity of Eigen Vector Centrality is  96.12 %\n"
     ]
    }
   ],
   "source": [
    "\"\"\"Calculating the similarity between the Graphs with respect to the parameter 'Eigen Vector Centrality'\"\"\"\n",
    "print('Similarity of Eigen Vector Centrality is ',sm.compare_eigen_vector_centrality(original_graph,reduced_graph),'%')"
   ]
  },
  {
   "cell_type": "code",
   "execution_count": 9,
   "metadata": {},
   "outputs": [
    {
     "name": "stdout",
     "output_type": "stream",
     "text": [
      "Similarity of Average Path Length is  88.0 %\n"
     ]
    }
   ],
   "source": [
    "\"\"\"Calculating the similarity between the Graphs with respect to the parameter 'Average Path Length'\"\"\"\n",
    "print('Similarity of Average Path Length is ',sm.compare_average_path_length(original_graph,reduced_graph),'%')"
   ]
  },
  {
   "cell_type": "code",
   "execution_count": 10,
   "metadata": {},
   "outputs": [
    {
     "name": "stdout",
     "output_type": "stream",
     "text": [
      "Jaccard Similarity is  93.94 %\n"
     ]
    }
   ],
   "source": [
    "\"\"\"Calculating the Jaccard similarity between the Graphs\"\"\"\n",
    "print('Jaccard Similarity is ',sm.calculate_jaccard_similarity(original_graph,reduced_graph),'%')"
   ]
  },
  {
   "cell_type": "code",
   "execution_count": 11,
   "metadata": {},
   "outputs": [
    {
     "name": "stdout",
     "output_type": "stream",
     "text": [
      "Preferential Attachment Similarity is  92.19 %\n"
     ]
    }
   ],
   "source": [
    "\"\"\"Calculating the Preferential Attachment Score between the Graphs\"\"\"\n",
    "print('Preferential Attachment Similarity is ',sm.preferential_attachment(original_graph,reduced_graph),'%')"
   ]
  }
 ],
 "metadata": {
  "kernelspec": {
   "display_name": "Python 3",
   "language": "python",
   "name": "python3"
  },
  "language_info": {
   "codemirror_mode": {
    "name": "ipython",
    "version": 3
   },
   "file_extension": ".py",
   "mimetype": "text/x-python",
   "name": "python",
   "nbconvert_exporter": "python",
   "pygments_lexer": "ipython3",
   "version": "3.10.6"
  },
  "orig_nbformat": 4,
  "vscode": {
   "interpreter": {
    "hash": "1ca462e5820dad0eea9c9a8d34959fad89e046ef1a057cdff9ada584c427717f"
   }
  }
 },
 "nbformat": 4,
 "nbformat_minor": 2
}
